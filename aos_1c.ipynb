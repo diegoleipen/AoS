{
 "cells": [
  {
   "cell_type": "code",
   "execution_count": 1,
   "id": "4ce294be",
   "metadata": {},
   "outputs": [],
   "source": [
    "import numpy as np\n",
    "import matplotlib.pyplot as plt"
   ]
  },
  {
   "cell_type": "markdown",
   "id": "5f1bdcb7",
   "metadata": {},
   "source": [
    "**20.** Suppose a coin has probability $p$ of falling heads up. If we flip the coin many times, we would expect the proportion of heads to be near $p$. Simulate $n$ coin flips and plot the proportion of heads as a function of $n$."
   ]
  },
  {
   "cell_type": "code",
   "execution_count": 2,
   "id": "2a569990",
   "metadata": {},
   "outputs": [
    {
     "data": {
      "image/png": "[encoded data removed]",
      "text/plain": [
       "<Figure size 640x480 with 1 Axes>"
      ]
     },
     "metadata": {},
     "output_type": "display_data"
    }
   ],
   "source": [
    "def props(n,p):\n",
    "    props = []\n",
    "    heads = 0\n",
    "    for toss in range(n):\n",
    "        res = np.random.choice(a = [0,1], p = [1-p,p])\n",
    "        if res == 1:\n",
    "            heads += 1\n",
    "        props.append(heads/(toss+1))\n",
    "    return props\n",
    "\n",
    "props = props(1000,.3)\n",
    "plt.plot(range(len(props)), props, 'o')\n",
    "plt.show()"
   ]
  },
  {
   "cell_type": "markdown",
   "id": "177fb12a",
   "metadata": {},
   "source": [
    "**21.** Suppose we flip a coin $n$ times and let $p$ denote the probability of heads. Let $X$ be the number of heads. Carry out multiple simulations and compare the average of the $X$’s to $np$."
   ]
  },
  {
   "cell_type": "code",
   "execution_count": 3,
   "id": "29961157",
   "metadata": {},
   "outputs": [
    {
     "name": "stdout",
     "output_type": "stream",
     "text": [
      "np: 300.0 avgX: 297.8\n"
     ]
    }
   ],
   "source": [
    "def avgX(m,n,p):\n",
    "    list = []\n",
    "    for experiment in range(m):\n",
    "        heads = 0\n",
    "        for toss in range(n):\n",
    "            res = np.random.choice(a = [0,1], p = [1-p, p])\n",
    "            if res == 1:\n",
    "                heads += 1\n",
    "        list.append(heads)\n",
    "    return sum(list)/len(list)\n",
    "\n",
    "m = 10\n",
    "n = 1000\n",
    "p = .3\n",
    "print('np:', n*p, 'avgX:', avgX(m,n,p))"
   ]
  },
  {
   "cell_type": "markdown",
   "id": "275b7614",
   "metadata": {},
   "source": [
    "**22.** Simulate $n$ die tosses. Calculate the frequency of two given events $A,B$ and calculate the frequency of $A \\cap B$. Compare."
   ]
  },
  {
   "cell_type": "code",
   "execution_count": 4,
   "id": "77ae49e0",
   "metadata": {},
   "outputs": [
    {
     "name": "stdout",
     "output_type": "stream",
     "text": [
      "A = [2,4,6], B = [1,2,3,4], pA*pB = 0.349928 pAB = 0.333\n",
      "A = [1], B = [2], pA*pB = 0.024928 pAB = 0.0\n"
     ]
    }
   ],
   "source": [
    "def dice(n,A,B):\n",
    "    countA = 0\n",
    "    countB = 0\n",
    "    countAB = 0\n",
    "    for toss in range(n):\n",
    "        res = np.random.choice(a = [1,2,3,4,5,6])\n",
    "        if res in A: \n",
    "            countA += 1\n",
    "        if res in B:\n",
    "            countB += 1\n",
    "        if res in A and res in B:\n",
    "            countAB +=1\n",
    "    return countA/n, countB/n, countAB/n\n",
    "\n",
    "pA, pB, pAB = dice(1000, [2,4,6], [1,2,3,4])\n",
    "print('A = [2,4,6], B = [1,2,3,4], pA*pB =', pA*pB, 'pAB =', pAB)\n",
    "\n",
    "pA, pB, pAB = dice(1000, [1], [2])\n",
    "print('A = [1], B = [2], pA*pB =', pA*pB, 'pAB =', pAB)"
   ]
  }
 ],
 "metadata": {
  "kernelspec": {
   "display_name": "Python 3",
   "language": "python",
   "name": "python3"
  },
  "language_info": {
   "codemirror_mode": {
    "name": "ipython",
    "version": 3
   },
   "file_extension": ".py",
   "mimetype": "text/x-python",
   "name": "python",
   "nbconvert_exporter": "python",
   "pygments_lexer": "ipython3",
   "version": "3.13.3"
  }
 },
 "nbformat": 4,
 "nbformat_minor": 5
}
